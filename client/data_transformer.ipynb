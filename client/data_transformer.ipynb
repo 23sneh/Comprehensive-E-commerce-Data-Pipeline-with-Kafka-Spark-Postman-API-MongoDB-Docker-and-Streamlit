{
 "cells": [
  {
   "cell_type": "code",
   "execution_count": null,
   "id": "dec4272f",
   "metadata": {},
   "outputs": [],
   "source": [
    "import numpy as np"
   ]
  },
  {
   "cell_type": "code",
   "execution_count": null,
   "id": "35ec0848",
   "metadata": {},
   "outputs": [],
   "source": [
    "from numpy import add"
   ]
  },
  {
   "cell_type": "code",
   "execution_count": null,
   "id": "c0131de8",
   "metadata": {},
   "outputs": [],
   "source": [
    "import pandas as pd"
   ]
  },
  {
   "cell_type": "code",
   "execution_count": null,
   "id": "49595e3f",
   "metadata": {},
   "outputs": [],
   "source": [
    "ls"
   ]
  },
  {
   "cell_type": "code",
   "execution_count": null,
   "id": "4286a4c8",
   "metadata": {},
   "outputs": [],
   "source": [
    "df = pd.read_csv ('data.csv')"
   ]
  },
  {
   "cell_type": "code",
   "execution_count": null,
   "id": "34de4929",
   "metadata": {},
   "outputs": [],
   "source": [
    "print(df)"
   ]
  },
  {
   "cell_type": "code",
   "execution_count": null,
   "id": "ceb01064",
   "metadata": {},
   "outputs": [],
   "source": [
    "df['json'] = df.to_json(orient='records', lines=True).splitlines()"
   ]
  },
  {
   "cell_type": "code",
   "execution_count": null,
   "id": "b79499a3",
   "metadata": {},
   "outputs": [],
   "source": [
    "print(df)"
   ]
  },
  {
   "cell_type": "code",
   "execution_count": null,
   "id": "eb0d6e1f",
   "metadata": {},
   "outputs": [],
   "source": [
    "dfjson = df['json']"
   ]
  },
  {
   "cell_type": "code",
   "execution_count": null,
   "id": "44009ca4",
   "metadata": {},
   "outputs": [],
   "source": [
    "print(dfjson)"
   ]
  },
  {
   "cell_type": "code",
   "execution_count": null,
   "id": "966ca7da",
   "metadata": {},
   "outputs": [],
   "source": [
    "np.savetxt(r'./output.txt', dfjson.values, fmt='%s')"
   ]
  }
 ],
 "metadata": {
  "kernelspec": {
   "display_name": "Python 3 (ipykernel)",
   "language": "python",
   "name": "python3"
  },
  "language_info": {
   "codemirror_mode": {
    "name": "ipython",
    "version": 3
   },
   "file_extension": ".py",
   "mimetype": "text/x-python",
   "name": "python",
   "nbconvert_exporter": "python",
   "pygments_lexer": "ipython3",
   "version": "3.10.6"
  }
 },
 "nbformat": 4,
 "nbformat_minor": 5
}
